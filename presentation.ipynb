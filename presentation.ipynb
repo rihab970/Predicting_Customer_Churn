{
 "cells": [
  {
   "cell_type": "code",
   "execution_count": 2,
   "metadata": {
    "code_folding": [],
    "slideshow": {
     "slide_type": "skip"
    }
   },
   "outputs": [
    {
     "data": {
      "text/html": [
       "    \n",
       "<!-- reveal.js CSS theme and local overrides -->\n",
       "<link rel=\"stylesheet\" href=\"https://fonts.googleapis.com/css?family=Open+Sans:300,400,600,700&amp;lang=en\"/>\n",
       "<link rel=\"stylesheet\" href=\"https://fonts.googleapis.com/css?family=Merriweather:italic&amp;lang=en\"/>\n"
      ],
      "text/plain": [
       "<IPython.core.display.HTML object>"
      ]
     },
     "metadata": {},
     "output_type": "display_data"
    }
   ],
   "source": [
    "%%HTML\n",
    "    \n",
    "<!-- reveal.js CSS theme and local overrides -->\n",
    "<link rel=\"stylesheet\" href=\"https://fonts.googleapis.com/css?family=Open+Sans:300,400,600,700&amp;lang=en\"/>\n",
    "<link rel=\"stylesheet\" href=\"https://fonts.googleapis.com/css?family=Merriweather:italic&amp;lang=en\"/>\n"
   ]
  },
  {
   "cell_type": "code",
   "execution_count": 3,
   "metadata": {
    "slideshow": {
     "slide_type": "skip"
    }
   },
   "outputs": [],
   "source": [
    "import pandas as pd\n",
    "import os\n",
    "from IPython.display import HTML\n"
   ]
  },
  {
   "cell_type": "markdown",
   "metadata": {
    "slideshow": {
     "slide_type": "slide"
    },
    "variables": {
     "name": "Your Name MSc.",
     "subtitle": "Subtitle goes here",
     "title": "Title goes here"
    }
   },
   "source": [
    "<section id=\"title-slide\">\n",
    "<table class=\"kms\" border=\"0\"  width=\"100%\"  style=\"width:100%;text-align:center;\">\n",
    "  <tr>\n",
    "    <td width=\"99%\" align=\"center\" ><p class=\"fragment\"><img src=\"./img/logo-isitcom.png\" width=\"150\" height=\"200\" style=\"border-radius: 10px\"></p></td>\n",
    "</table>\n",
    "   <h1><i><p><center>Marketing Analytics: Predicting Customer Churn in Python</center></p></i></h1>\n",
    "    <h4><i><p><center>Réalisée par : Rihab Mribah</center></p></center></i></h4>\n",
    "    <i><p><center>3 DNI 1</center></p></i>\n",
    "    <p><center>Année universitaire 2022-2023</center></p>\n",
    "</section>"
   ]
  },
  {
   "cell_type": "markdown",
   "metadata": {
    "slideshow": {
     "slide_type": "slide"
    },
    "variables": {
     "footer_html": "<div class='footer'>Name of Event | Title goes here | 26-02-2021</div>"
    }
   },
   "source": [
    "<h1 ><p class=\"fragment fade-up\"><span class=\"presentation_title\">Plan</span></p></h1>\n",
    "\n",
    "<h3 ><p class=\"fragment fade-up\"><span class=\"bkg_contrastR\">1- Introduction</span></p></h3>\n",
    "\n",
    "<h3 ><p class=\"fragment fade-up\"><span class=\"bkg_contrastR\">2- Lire Le Dataset</span></p></h3>\n",
    "<h3 ><p class=\"fragment fade-up\"><span class=\"bkg_contrastR\">3- Analyse Exploratoire Des Données</span></p></h3>\n",
    "<h3 ><p class=\"fragment fade-up\"><span class=\"bkg_contrastR\">4- Prétraitement pour la modélisation de Churn</span></p></h3>\n",
    "\n",
    "<h3 ><p class=\"fragment fade-up\"><span class=\"bkg_contrastR\">5- Prédiction de Churn</span></p></h3>\n",
    "\n"
   ]
  },
  {
   "cell_type": "markdown",
   "metadata": {
    "slideshow": {
     "slide_type": "subslide"
    }
   },
   "source": [
    "<h3 ><p class=\"fragment fade-up\"><span class=\"bkg_contrastR\">6- Tuning le modèle</span></p></h3>\n",
    "<h3 ><p class=\"fragment fade-up\"><span class=\"bkg_contrastR\">7- Conclusion</span></p></h3>"
   ]
  },
  {
   "cell_type": "markdown",
   "metadata": {
    "slideshow": {
     "slide_type": "slide"
    }
   },
   "source": [
    "\n",
    "<h1 ><p class=\"fragment fade-up\" data-fragment-index=\"1\"><span class=\"presentation_title\">1- Introduction</span></p></h1>\n",
    "<h2 ><p class=\"fragment fade-up\" data-fragment-index=\"2\"><span style=\"color:#734d26;\">Customer Churn</span></p></h2>\n",
    "<div style=\"display: flex; justify-content: space-around;\"class=\"center\">\n",
    "<p class=\"fragment fade-up\" data-fragment-index=\"3\" align=\"center\" ><img src=\"./img/churn.png\" width=\"450\" height=\"450\" style=\"border-radius: 10px\"></p>\n",
    "</div>\n",
    "<div>\n",
    "<p class=\"fragment fade-up\" data-fragment-index=\"4\"><i style=\"color:#13060d;\">Customer Churn c'est lorsqu'un client, un utilisateur, un abonné ou tout type de client existant cesse de faire des affaires ou met fin à la relation avec une entreprise.</i></p>\n",
    "</div>"
   ]
  },
  {
   "cell_type": "markdown",
   "metadata": {
    "slideshow": {
     "slide_type": "subslide"
    }
   },
   "source": [
    "<h2 ><p class=\"fragment fade-up\" data-fragment-index=\"1\"><span class=\"presentation_title\">Les types de Customer Churn</span></p></h2>\n",
    "<div>\n",
    " <p class=\"fragment\" data-fragment-index=\"2\" align=\"center\" ><i style=\"color:#13060d;\">Dans cette présentation nous traiterons 3 types de Customer churn :</i> </p>\n",
    "<p class=\"fragment fade-up\" data-fragment-index=\"3\" ><span class=\"bkg_contrastR\">Contractual Churn:</span><br><span class=\"fragment\" data-fragment-index=\"4\" style=\"color:#13060d;\">Lorsqu'un client est sous contrat pour un service et décide d'annuler le service.</span></p> \n",
    "<p class=\"fragment\" data-fragment-index=\"5\" ><u style=\"color:#000000;\">Exemple:</u> <i style=\"color:#13060d;\"> Cable TV, SaaS </i></p><br>\n",
    "<div style=\"display: flex; justify-content: space-around;\"class=\"center\">\n",
    "<p class=\"fragment fade-up\" data-fragment-index=\"5\" align=\"center\" ><img src=\"./img/Tv.png\" width=\"350\" height=\"350\" style=\"border-radius: 10px\"></p> &nbsp;  &nbsp; &nbsp;&nbsp;<p class=\"fragment fade-up\" data-fragment-index=\"5\" align=\"center\" ><img src=\"./img/Saas.png\" width=\"350\" height=\"350\" style=\"border-radius: 10px\"></p>\n",
    "</div>  \n",
    "\n",
    "</div>"
   ]
  },
  {
   "cell_type": "markdown",
   "metadata": {
    "slideshow": {
     "slide_type": "subslide"
    }
   },
   "source": [
    "<div>\n",
    "<p class=\"fragment fade-up\" data-fragment-index=\"1\" ><span class=\"bkg_contrastR\">Non-Contractual Churn:</span><br><span class=\"fragment\" data-fragment-index=\"2\" style=\"color:#13060d;\">Lorsqu'un utilisateur annule volontairement un service.</span></p> \n",
    "<p class=\"fragment\" data-fragment-index=\"3\" ><u style=\"color:#000000;\">Exemple:</u> <i style=\"color:#13060d;\">Connexion cellulaire  (Online browsing)</i></p><br>\n",
    "<div style=\"display: flex; justify-content: space-around;\"class=\"center\">\n",
    "<p class=\"fragment fade-up\" data-fragment-index=\"3\" align=\"center\" ><img src=\"./img/exp1.png\" width=\"350\" height=\"350\" style=\"border-radius: 10px\"></p> &nbsp;  &nbsp; &nbsp;&nbsp;<p class=\"fragment fade-up\" data-fragment-index=\"3\" align=\"center\" ><img src=\"./img/exp2.png\" width=\"350\" height=\"350\" style=\"border-radius: 10px\"></p>\n",
    "</div>  \n",
    "\n",
    "</div>"
   ]
  },
  {
   "cell_type": "markdown",
   "metadata": {
    "slideshow": {
     "slide_type": "subslide"
    }
   },
   "source": [
    "<div>\n",
    "<p class=\"fragment fade-up\" data-fragment-index=\"1\" ><span class=\"bkg_contrastR\">Involuntary Churn:</span><br><span class=\"fragment\" data-fragment-index=\"2\" style=\"color:#13060d;\">Lorsqu'un désabonnement se produit sans aucune demande du client.</span></p> \n",
    "<p class=\"fragment\" data-fragment-index=\"3\" ><u style=\"color:#000000;\">Exemple:</u> <i style=\"color:#13060d;\">Expiration de la carte de crédit</i></p>\n",
    "<div style=\"display: flex; justify-content: space-around;\"class=\"center\">\n",
    "<p class=\"fragment fade-up\" data-fragment-index=\"3\" align=\"center\" ><img src=\"./img/exp3.png\" width=\"450\" height=\"350\" style=\"border-radius: 10px\"></p>\n",
    "</div>  \n",
    "\n",
    "</div>"
   ]
  },
  {
   "cell_type": "markdown",
   "metadata": {
    "slideshow": {
     "slide_type": "slide"
    }
   },
   "source": [
    "<h1 ><p class=\"fragment fade-up\" data-fragment-index=\"1\"><span class=\"presentation_title\">2- Lire Le Dataset</span></p></h1>\n",
    "<div>\n",
    " <p class=\"fragment\" data-fragment-index=\"2\" align=\"center\"><i style=\"color:#13060d;\">Le Dataset utilisé dans ce projet est</i> <span class=\"bkg_contrastR\">Telco Churn</span> <i style=\"color:#13060d;\">qui contient ensemble des columnes (variables indépendantes) qui indiquent les caractéristiques des clients d'une société de télécommunications fictive.</i></p>\n",
    "     \n",
    "     \n",
    "<p class=\"fragment fade-down\" data-fragment-index=\"3\" align=\"center\" ><i style=\"color:#13060d;\">La colonne</i><span class=\"bkg_contrastR\"> Churn</span><i style=\"color:#13060d;\">(variable de réponse) indique si le client est parti au cours du mois dernier ou non.</i></p>\n",
    "<div style=\"display: flex; justify-content: space-around;\"class=\"center\">\n",
    "<p class=\"fragment fade-up\" data-fragment-index=\"3\" align=\"center\" ><img src=\"./img/churn2.png\" width=\"450\" height=\"350\" style=\"border-radius: 10px\"></p>\n",
    "</div>\n",
    "</div>"
   ]
  },
  {
   "cell_type": "markdown",
   "metadata": {
    "slideshow": {
     "slide_type": "subslide"
    }
   },
   "source": [
    "<p class=\"fragment fade-right\" data-fragment-index=\"1\" align=\"center\" ><i style=\"color:#13060d;\">La</i><span class=\"bkg_contrastR\">classe Non</span><i style=\"color:#13060d;\">comprend les clients qui n'ont pas quitté l'entreprise le mois dernier.</i> </p>\n",
    "<p class=\"fragment fade-right\" data-fragment-index=\"2\" align=\"center\" ><i style=\"color:#13060d;\">La</i> <span class=\"bkg_contrastR\">classe Oui</span><i style=\"color:#13060d;\">contient les clients qui ont décidé de mettre fin à leurs relations avec l'entreprise.</i></p>\n",
    "<br>\n",
    "<p class=\"fragment fade-right\" data-fragment-index=\"3\" align=\"center\" ><i style=\"color:#13060d;\">-> L’objectif est d’obtenir la relation entre les caractéristiques du client et le churn.</i></p>\n",
    "    "
   ]
  },
  {
   "cell_type": "markdown",
   "metadata": {
    "slideshow": {
     "slide_type": "subslide"
    }
   },
   "source": [
    "<h2 ><p class=\"fragment fade-up\" data-fragment-index=\"1\"><span style=\"color:#734d26;\">Importer Le Dataset Telco Churn : </span></p></h2>\n",
    "\n",
    "<p class=\"fragment fade-right\" data-fragment-index=\"3\" align=\"center\" ><i style=\"color:#13060d;\">La première étape est de lire et de stocker les données dans un data frame Pandas à l'aide de la fonction <span class=\"bkg_contrastB\"> pandas.read_csv</span>:</i></p>"
   ]
  },
  {
   "cell_type": "code",
   "execution_count": 4,
   "metadata": {
    "slideshow": {
     "slide_type": "subslide"
    }
   },
   "outputs": [
    {
     "data": {
      "text/html": [
       "<div>\n",
       "<style scoped>\n",
       "    .dataframe tbody tr th:only-of-type {\n",
       "        vertical-align: middle;\n",
       "    }\n",
       "\n",
       "    .dataframe tbody tr th {\n",
       "        vertical-align: top;\n",
       "    }\n",
       "\n",
       "    .dataframe thead th {\n",
       "        text-align: right;\n",
       "    }\n",
       "</style>\n",
       "<table border=\"1\" class=\"dataframe\">\n",
       "  <thead>\n",
       "    <tr style=\"text-align: right;\">\n",
       "      <th></th>\n",
       "      <th>Account_Length</th>\n",
       "      <th>Vmail_Message</th>\n",
       "      <th>Day_Mins</th>\n",
       "      <th>Eve_Mins</th>\n",
       "      <th>Night_Mins</th>\n",
       "      <th>Intl_Mins</th>\n",
       "      <th>CustServ_Calls</th>\n",
       "      <th>Churn</th>\n",
       "      <th>Intl_Plan</th>\n",
       "      <th>Vmail_Plan</th>\n",
       "      <th>...</th>\n",
       "      <th>Day_Charge</th>\n",
       "      <th>Eve_Calls</th>\n",
       "      <th>Eve_Charge</th>\n",
       "      <th>Night_Calls</th>\n",
       "      <th>Night_Charge</th>\n",
       "      <th>Intl_Calls</th>\n",
       "      <th>Intl_Charge</th>\n",
       "      <th>State</th>\n",
       "      <th>Area_Code</th>\n",
       "      <th>Phone</th>\n",
       "    </tr>\n",
       "  </thead>\n",
       "  <tbody>\n",
       "    <tr>\n",
       "      <th>0</th>\n",
       "      <td>128</td>\n",
       "      <td>25</td>\n",
       "      <td>265.1</td>\n",
       "      <td>197.4</td>\n",
       "      <td>244.7</td>\n",
       "      <td>10.0</td>\n",
       "      <td>1</td>\n",
       "      <td>no</td>\n",
       "      <td>no</td>\n",
       "      <td>yes</td>\n",
       "      <td>...</td>\n",
       "      <td>45.07</td>\n",
       "      <td>99</td>\n",
       "      <td>16.78</td>\n",
       "      <td>91</td>\n",
       "      <td>11.01</td>\n",
       "      <td>3</td>\n",
       "      <td>2.70</td>\n",
       "      <td>KS</td>\n",
       "      <td>415</td>\n",
       "      <td>382-4657</td>\n",
       "    </tr>\n",
       "    <tr>\n",
       "      <th>1</th>\n",
       "      <td>107</td>\n",
       "      <td>26</td>\n",
       "      <td>161.6</td>\n",
       "      <td>195.5</td>\n",
       "      <td>254.4</td>\n",
       "      <td>13.7</td>\n",
       "      <td>1</td>\n",
       "      <td>no</td>\n",
       "      <td>no</td>\n",
       "      <td>yes</td>\n",
       "      <td>...</td>\n",
       "      <td>27.47</td>\n",
       "      <td>103</td>\n",
       "      <td>16.62</td>\n",
       "      <td>103</td>\n",
       "      <td>11.45</td>\n",
       "      <td>3</td>\n",
       "      <td>3.70</td>\n",
       "      <td>OH</td>\n",
       "      <td>415</td>\n",
       "      <td>371-7191</td>\n",
       "    </tr>\n",
       "    <tr>\n",
       "      <th>2</th>\n",
       "      <td>137</td>\n",
       "      <td>0</td>\n",
       "      <td>243.4</td>\n",
       "      <td>121.2</td>\n",
       "      <td>162.6</td>\n",
       "      <td>12.2</td>\n",
       "      <td>0</td>\n",
       "      <td>no</td>\n",
       "      <td>no</td>\n",
       "      <td>no</td>\n",
       "      <td>...</td>\n",
       "      <td>41.38</td>\n",
       "      <td>110</td>\n",
       "      <td>10.30</td>\n",
       "      <td>104</td>\n",
       "      <td>7.32</td>\n",
       "      <td>5</td>\n",
       "      <td>3.29</td>\n",
       "      <td>NJ</td>\n",
       "      <td>415</td>\n",
       "      <td>358-1921</td>\n",
       "    </tr>\n",
       "    <tr>\n",
       "      <th>3</th>\n",
       "      <td>84</td>\n",
       "      <td>0</td>\n",
       "      <td>299.4</td>\n",
       "      <td>61.9</td>\n",
       "      <td>196.9</td>\n",
       "      <td>6.6</td>\n",
       "      <td>2</td>\n",
       "      <td>no</td>\n",
       "      <td>yes</td>\n",
       "      <td>no</td>\n",
       "      <td>...</td>\n",
       "      <td>50.90</td>\n",
       "      <td>88</td>\n",
       "      <td>5.26</td>\n",
       "      <td>89</td>\n",
       "      <td>8.86</td>\n",
       "      <td>7</td>\n",
       "      <td>1.78</td>\n",
       "      <td>OH</td>\n",
       "      <td>408</td>\n",
       "      <td>375-9999</td>\n",
       "    </tr>\n",
       "    <tr>\n",
       "      <th>4</th>\n",
       "      <td>75</td>\n",
       "      <td>0</td>\n",
       "      <td>166.7</td>\n",
       "      <td>148.3</td>\n",
       "      <td>186.9</td>\n",
       "      <td>10.1</td>\n",
       "      <td>3</td>\n",
       "      <td>no</td>\n",
       "      <td>yes</td>\n",
       "      <td>no</td>\n",
       "      <td>...</td>\n",
       "      <td>28.34</td>\n",
       "      <td>122</td>\n",
       "      <td>12.61</td>\n",
       "      <td>121</td>\n",
       "      <td>8.41</td>\n",
       "      <td>3</td>\n",
       "      <td>2.73</td>\n",
       "      <td>OK</td>\n",
       "      <td>415</td>\n",
       "      <td>330-6626</td>\n",
       "    </tr>\n",
       "  </tbody>\n",
       "</table>\n",
       "<p>5 rows × 21 columns</p>\n",
       "</div>"
      ],
      "text/plain": [
       "   Account_Length  Vmail_Message  Day_Mins  Eve_Mins  Night_Mins  Intl_Mins  \\\n",
       "0             128             25     265.1     197.4       244.7       10.0   \n",
       "1             107             26     161.6     195.5       254.4       13.7   \n",
       "2             137              0     243.4     121.2       162.6       12.2   \n",
       "3              84              0     299.4      61.9       196.9        6.6   \n",
       "4              75              0     166.7     148.3       186.9       10.1   \n",
       "\n",
       "   CustServ_Calls Churn Intl_Plan Vmail_Plan  ...  Day_Charge  Eve_Calls  \\\n",
       "0               1    no        no        yes  ...       45.07         99   \n",
       "1               1    no        no        yes  ...       27.47        103   \n",
       "2               0    no        no         no  ...       41.38        110   \n",
       "3               2    no       yes         no  ...       50.90         88   \n",
       "4               3    no       yes         no  ...       28.34        122   \n",
       "\n",
       "   Eve_Charge  Night_Calls  Night_Charge  Intl_Calls  Intl_Charge  State  \\\n",
       "0       16.78           91         11.01           3         2.70     KS   \n",
       "1       16.62          103         11.45           3         3.70     OH   \n",
       "2       10.30          104          7.32           5         3.29     NJ   \n",
       "3        5.26           89          8.86           7         1.78     OH   \n",
       "4       12.61          121          8.41           3         2.73     OK   \n",
       "\n",
       "  Area_Code     Phone  \n",
       "0       415  382-4657  \n",
       "1       415  371-7191  \n",
       "2       415  358-1921  \n",
       "3       408  375-9999  \n",
       "4       415  330-6626  \n",
       "\n",
       "[5 rows x 21 columns]"
      ]
     },
     "execution_count": 4,
     "metadata": {},
     "output_type": "execute_result"
    }
   ],
   "source": [
    "# Import required libraries\n",
    "import numpy as np\n",
    "import pandas as pd\n",
    "  \n",
    "# Import the dataset\n",
    "telco = pd.read_csv('Churn.csv')\n",
    "  \n",
    "# Glance at the first five records\n",
    "telco.head()"
   ]
  },
  {
   "cell_type": "markdown",
   "metadata": {
    "slideshow": {
     "slide_type": "slide"
    }
   },
   "source": [
    "<h1 ><p class=\"fragment fade-up\" data-fragment-index=\"1\"><span class=\"presentation_title\">3- Analyse Exploratoire Des Données</span></p></h1>\n",
    "\n",
    "<p class=\"fragment\" data-fragment-index=\"2\" align=\"center\"><i style=\"color:#13060d;\">L'analyse exploratoire des données consiste à analyser les principales caractéristiques d'un ensemble de données, généralement des méthodes de</i> <span class=\"bkg_contrastR\">visualisation (Seaborn)  et de statistique (pandas) </span><i style=\"color:#13060d;\">.</i></p>\n",
    "<br>\n",
    "\n",
    "<p class=\"fragment\" data-fragment-index=\"3\" align=\"center\"><i style=\"color:#13060d;\">L'objectif est de comprendre les données, de découvrir des modèles et des anomalies, et de vérifier les hypothèses avant d'effectuer d'autres évaluations.</i></p>\n",
    "<br><br><br>\n"
   ]
  },
  {
   "cell_type": "markdown",
   "metadata": {
    "slideshow": {
     "slide_type": "subslide"
    }
   },
   "source": [
    "<h2 ><p class=\"fragment fade-up\" data-fragment-index=\"1\"><span class=\"bkg_contrastB\">3.1- Grouper et synthétiser les données : </span></p></h2>\n",
    "\n",
    "<h2 ><p class=\"fragment fade-up\" data-fragment-index=\"3\"><span style=\"color:#734d26;\">Churners Et non-churners: </span></p></h2>\n"
   ]
  },
  {
   "cell_type": "code",
   "execution_count": 5,
   "metadata": {
    "slideshow": {
     "slide_type": "subslide"
    }
   },
   "outputs": [
    {
     "name": "stdout",
     "output_type": "stream",
     "text": [
      "no     2850\n",
      "yes     483\n",
      "Name: Churn, dtype: int64\n"
     ]
    }
   ],
   "source": [
    "print(telco['Churn'].value_counts())"
   ]
  },
  {
   "cell_type": "markdown",
   "metadata": {
    "slideshow": {
     "slide_type": "subslide"
    }
   },
   "source": [
    "<p class=\"fragment fade-up\" data-fragment-index=\"1\"><span class=\"bkg_contrastR\">Résultat </span></p>\n",
    "<p class=\"fragment fade-up\" data-fragment-index=\"2\"><i style=\"color:#13060d;\">2 Classes affichées :</i></p>\n",
    "<p class=\"fragment\" data-fragment-index=\"3\" align=\"center\"><span class=\"bkg_contrastR\">yes :</span><i style=\"color:#13060d;\"> 483 clients sont abandonnés</i></p>\n",
    "<p class=\"fragment\" data-fragment-index=\"4\" align=\"center\"><span class=\"bkg_contrastR\">no :</span><i style=\"color:#13060d;\"> 2850 clients ne résilient pas leur abonnement</i></p>\n"
   ]
  },
  {
   "cell_type": "markdown",
   "metadata": {
    "slideshow": {
     "slide_type": "subslide"
    }
   },
   "source": [
    "<h2 ><p class=\"fragment fade-up\" data-fragment-index=\"1\"><span class=\"bkg_contrastB\">3.2- Explorer vos données à l'aide de la visualisation : </span></p></h2>\n",
    "\n",
    "<p class=\"fragment\" data-fragment-index=\"2\" align=\"center\"><i style=\"color:#13060d;\">Dans cette section, nous analysons les données en utilisant la visualisation à l'aide les bibliotheques </i> <span class=\"bkg_contrastR\">Seaborn </span><i style=\"color:#13060d;\"> et </i><span class=\"bkg_contrastR\">matplotlib </span><i style=\"color:#13060d;\">.</i></p>\n",
    "\n",
    "<h3 ><p class=\"fragment fade-up\" data-fragment-index=\"3\"><span style=\"color:#734d26;\">Seaborn : </span></p></h3>\n",
    "<p class=\"fragment\" data-fragment-index=\"4\" align=\"center\"><i style=\"color:#13060d;\">Seaborn est une bibliothèque permettant de créer des graphiques statistiques en Python, Elle est basée sur Matplotlib, et s’intègre avec les structures Pandas.\n",
    "Elle apporte une simplicité et permet d’explorer et de comprendre rapidement les données.</i></p>\n",
    "\n",
    "<h3 ><p class=\"fragment fade-up\" data-fragment-index=\"5\"><span style=\"color:#734d26;\">Explorer les distributions de fonctionnalités : </span></p></h3>\n",
    "\n"
   ]
  },
  {
   "cell_type": "code",
   "execution_count": 6,
   "metadata": {
    "slideshow": {
     "slide_type": "skip"
    }
   },
   "outputs": [],
   "source": [
    "# for visualization\n",
    "import matplotlib.pyplot as plt\n",
    "import seaborn as sns"
   ]
  },
  {
   "cell_type": "code",
   "execution_count": 7,
   "metadata": {
    "scrolled": true,
    "slideshow": {
     "slide_type": "subslide"
    }
   },
   "outputs": [
    {
     "data": {
      "image/png": "[encoded data removed]",
      "text/plain": [
       "<Figure size 432x288 with 4 Axes>"
      ]
     },
     "metadata": {
      "needs_background": "light"
     },
     "output_type": "display_data"
    }
   ],
   "source": [
    "plt.subplot(2,2,1)\n",
    "ax = sns.histplot(telco['Day_Mins'])\n",
    "plt.subplot(2,2,2)\n",
    "ax = sns.histplot(telco['Eve_Mins'])\n",
    "plt.subplot(2,2,3)\n",
    "ax = sns.histplot(telco['Night_Mins'])\n",
    "plt.subplot(2,2,4)\n",
    "ax = sns.histplot(telco['Intl_Mins'])\n",
    "plt.show()"
   ]
  },
  {
   "cell_type": "markdown",
   "metadata": {
    "slideshow": {
     "slide_type": "subslide"
    }
   },
   "source": [
    "<h3 ><p class=\"fragment fade-up\" data-fragment-index=\"1\"><span style=\"color:#734d26;\">Appels au service client et churn : </span></p></h3>\n",
    "<p class=\"fragment\" data-fragment-index=\"2\" align=\"center\"><i style=\"color:#13060d;\">Il y a une différence dans le nombre d'appels au service client laissés par les churners</i></p>\n",
    "<p class=\"fragment\" data-fragment-index=\"3\" align=\"center\"><i style=\"color:#13060d;\">Visualisons maintenant cette différence à l'aide </i><span class=\"bkg_contrastR\"> box plot</span><i style=\"color:#13060d;\"> et intégrons d'autres caractéristiques intéressantes :</i></p>\n",
    "<p class=\"fragment\" data-fragment-index=\"3\" align=\"center\"><i style=\"color:#13060d;\">- les clients qui ont des forfaits internationaux passent-ils plus d'appels au service client ?</i></p>\n",
    "<p class=\"fragment\" data-fragment-index=\"3\" align=\"center\"><i style=\"color:#13060d;\">- Ou ont-ils tendance à churn plus?</i></p>"
   ]
  },
  {
   "cell_type": "code",
   "execution_count": 8,
   "metadata": {
    "slideshow": {
     "slide_type": "subslide"
    }
   },
   "outputs": [
    {
     "data": {
      "image/png": "[encoded data removed]",
      "text/plain": [
       "<Figure size 432x288 with 2 Axes>"
      ]
     },
     "metadata": {
      "needs_background": "light"
     },
     "output_type": "display_data"
    }
   ],
   "source": [
    "plt.subplot(1,2,1)\n",
    "sns.boxplot(x = 'Churn',\n",
    "          y = 'CustServ_Calls',\n",
    "          data = telco)\n",
    "plt.subplot(1,2,2)\n",
    "sns.boxplot(x = 'Churn',\n",
    "            y = 'CustServ_Calls',\n",
    "            data = telco,\n",
    "            sym=\"\")\n",
    "plt.show()"
   ]
  },
  {
   "cell_type": "code",
   "execution_count": 9,
   "metadata": {
    "slideshow": {
     "slide_type": "subslide"
    }
   },
   "outputs": [
    {
     "data": {
      "image/png": "[encoded data removed]",
      "text/plain": [
       "<Figure size 432x288 with 2 Axes>"
      ]
     },
     "metadata": {
      "needs_background": "light"
     },
     "output_type": "display_data"
    }
   ],
   "source": [
    "plt.subplot(1,2,1)\n",
    "# Add \"Vmail_Plan\" as a third variable\n",
    "sns.boxplot(x = 'Churn',\n",
    "            y = 'CustServ_Calls',\n",
    "            data = telco,\n",
    "            sym = \"\",\n",
    "            hue = \"Vmail_Plan\")\n",
    "plt.subplot(1,2,2)\n",
    "# Add \"Intl_Plan\" as a third variable\n",
    "sns.boxplot(x = 'Churn',\n",
    "            y = 'CustServ_Calls',\n",
    "            data = telco,\n",
    "            sym = \"\",\n",
    "            hue = \"Intl_Plan\")\n",
    "plt.show()"
   ]
  },
  {
   "cell_type": "markdown",
   "metadata": {
    "slideshow": {
     "slide_type": "slide"
    }
   },
   "source": [
    "<h1 ><p class=\"fragment fade-up\" data-fragment-index=\"1\"><span class=\"presentation_title\">4- Prétraitement pour la modélisation de Churn</span></p></h1>\n",
    "<h2 ><p class=\"fragment fade-up\" data-fragment-index=\"2\"><span class=\"bkg_contrastB\">4.1- Préparation des données </span></p></h2>\n",
    "<p class=\"fragment\" data-fragment-index=\"3\" align=\"center\"><i style=\"color:#13060d;\">La préparation des données est le processus de transformation des données brutes afin que les scientifiques et les analystes des données puissent les exécuter via des algorithmes d'apprentissage automatique pour découvrir des informations ou faire des prédictions.</i></p>\n",
    "<h3 ><p class=\"fragment fade-up\" data-fragment-index=\"4\"><span style=\"color:#734d26;\">Identification des caractéristiques(features) à convertir</span></p></h3>\n",
    "<p class=\"fragment\" data-fragment-index=\"5\" align=\"center\"><i style=\"color:#13060d;\">\n",
    "Churn, Intl_Plan, Vmail_Plan, State</i></p>\n",
    "<h3 ><p class=\"fragment fade-up\" data-fragment-index=\"6\"><span style=\"color:#734d26;\">Encodage des caractéristiques binaires</span></p></h3>\n",
    "<p class=\"fragment\" data-fragment-index=\"5\" align=\"center\"><i style=\"color:#13060d;\">Remplacez 'no' par 0 et 'yes' par 1 dans la colonne 'Vmail_Plan' de telco et de même pour la colonne 'Churn'.</i></p>"
   ]
  },
  {
   "cell_type": "code",
   "execution_count": 10,
   "metadata": {
    "slideshow": {
     "slide_type": "subslide"
    }
   },
   "outputs": [
    {
     "name": "stdout",
     "output_type": "stream",
     "text": [
      "0    1\n",
      "1    1\n",
      "2    0\n",
      "3    0\n",
      "4    0\n",
      "Name: Vmail_Plan, dtype: int64\n",
      "0    0\n",
      "1    0\n",
      "2    0\n",
      "3    0\n",
      "4    0\n",
      "Name: Churn, dtype: int64\n"
     ]
    }
   ],
   "source": [
    "#Replace 'no' with 0 and 'yes' with 1 in 'Vmail_Plan'\n",
    "telco['Vmail_Plan'] = telco['Vmail_Plan'].replace({'no':0 , 'yes':1})\n",
    "\n",
    "# Replace 'no' with 0 and 'yes' with 1 in 'Churn'\n",
    "telco['Churn'] = telco['Churn'].replace({'no':0 , 'yes':1})\n",
    "\n",
    "# Print the results to verify\n",
    "print(telco['Vmail_Plan'].head())\n",
    "print(telco['Churn'].head())"
   ]
  },
  {
   "cell_type": "markdown",
   "metadata": {
    "slideshow": {
     "slide_type": "subslide"
    }
   },
   "source": [
    "<h3 ><p class=\"fragment fade-up\" data-fragment-index=\"1\"><span style=\"color:#734d26;\">Un encodage à chaud (One hot encoding)</span></p></h3>\n",
    "<p class=\"fragment\" data-fragment-index=\"2\" align=\"center\"><i style=\"color:#13060d;\">la caractéristique 'State' peut être encodée numériquement, en utilisant la technique d'un encodage à chaud :</i></p>\n",
    "<div style=\"display: flex; justify-content: space-around;\"class=\"center\">\n",
    "<p class=\"fragment fade-up\" data-fragment-index=\"3\" align=\"center\" ><img src=\"./img/encodHot.png\" width=\"450\" height=\"350\" style=\"border-radius: 10px\"></p>\n",
    "</div>"
   ]
  },
  {
   "cell_type": "code",
   "execution_count": 80,
   "metadata": {
    "slideshow": {
     "slide_type": "subslide"
    }
   },
   "outputs": [
    {
     "name": "stdout",
     "output_type": "stream",
     "text": [
      "   AK  AL  AR  AZ  CA  CO  CT  DC  DE  FL  ...  SD  TN  TX  UT  VA  VT  WA  \\\n",
      "0   0   0   0   0   0   0   0   0   0   0  ...   0   0   0   0   0   0   0   \n",
      "1   0   0   0   0   0   0   0   0   0   0  ...   0   0   0   0   0   0   0   \n",
      "2   0   0   0   0   0   0   0   0   0   0  ...   0   0   0   0   0   0   0   \n",
      "3   0   0   0   0   0   0   0   0   0   0  ...   0   0   0   0   0   0   0   \n",
      "4   0   0   0   0   0   0   0   0   0   0  ...   0   0   0   0   0   0   0   \n",
      "\n",
      "   WI  WV  WY  \n",
      "0   0   0   0  \n",
      "1   0   0   0  \n",
      "2   0   0   0  \n",
      "3   0   0   0  \n",
      "4   0   0   0  \n",
      "\n",
      "[5 rows x 51 columns]\n"
     ]
    }
   ],
   "source": [
    "# Perform one hot encoding on 'State' *\n",
    "telco_state = pd.get_dummies(telco['State'])\n",
    "\n",
    "# Print the head of telco_state\n",
    "print(telco_state.head())"
   ]
  },
  {
   "cell_type": "markdown",
   "metadata": {
    "slideshow": {
     "slide_type": "subslide"
    }
   },
   "source": [
    "<h3 ><p class=\"fragment fade-up\" data-fragment-index=\"1\"><span style=\"color:#734d26;\">Feature scaling</span></p></h3>\n",
    "<p class=\"fragment\" data-fragment-index=\"2\" align=\"center\"><i style=\"color:#13060d;\">Les caractéristiques doivent être à la même échelle et Rarement vrai pour les données réelles</i></p>\n",
    "<div style=\"display: flex; justify-content: space-around;\"class=\"center\">\n",
    "<p class=\"fragment fade-up\" data-fragment-index=\"3\" align=\"center\" ><img src=\"./img/encoSc.png\" width=\"450\" height=\"350\" style=\"border-radius: 10px\"></p></div>"
   ]
  },
  {
   "cell_type": "markdown",
   "metadata": {
    "slideshow": {
     "slide_type": "subslide"
    }
   },
   "source": [
    "<h2 ><p class=\"fragment fade-up\" data-fragment-index=\"1\"><span class=\"bkg_contrastB\">4.2- Sélection et ingénierie des fonctionnalités </span></p></h2>\n",
    "<h3 ><p class=\"fragment fade-up\" data-fragment-index=\"2\"><span style=\"color:#734d26;\">Supprimer les features inutiles</span></p></h3>\n",
    "<p class=\"fragment\" data-fragment-index=\"3\" align=\"center\"><i style=\"color:#13060d;\">- Identificateurs uniques</i></p>\n",
    "<p class=\"fragment\" data-fragment-index=\"3\" align=\"center\"><i style=\"color:#13060d;\">- Les numéros de téléphone</i></p>\n",
    "<p class=\"fragment\" data-fragment-index=\"3\" align=\"center\"><i style=\"color:#13060d;\">- Numéros de sécurité sociale</i></p>\n",
    "<p class=\"fragment\" data-fragment-index=\"3\" align=\"center\"><i style=\"color:#13060d;\">- Numéros de compte</i></p>"
   ]
  },
  {
   "cell_type": "code",
   "execution_count": 81,
   "metadata": {
    "slideshow": {
     "slide_type": "subslide"
    }
   },
   "outputs": [
    {
     "name": "stdout",
     "output_type": "stream",
     "text": [
      "Index(['Account_Length', 'Vmail_Message', 'Day_Mins', 'Eve_Mins', 'Night_Mins',\n",
      "       'Intl_Mins', 'CustServ_Calls', 'Churn', 'Intl_Plan', 'Vmail_Plan',\n",
      "       'Day_Calls', 'Day_Charge', 'Eve_Calls', 'Eve_Charge', 'Night_Calls',\n",
      "       'Night_Charge', 'Intl_Calls', 'Intl_Charge', 'State'],\n",
      "      dtype='object')\n"
     ]
    }
   ],
   "source": [
    "# Drop the unnecessary features\n",
    "telco = telco.drop(['Area_Code', 'Phone'], axis=1)\n",
    "\n",
    "# Verify dropped features\n",
    "print(telco.columns)"
   ]
  },
  {
   "cell_type": "markdown",
   "metadata": {
    "slideshow": {
     "slide_type": "subslide"
    }
   },
   "source": [
    "<h2 ><p class=\"fragment fade-up\" data-fragment-index=\"1\"><span class=\"bkg_contrastB\">4.2- Sélection et ingénierie des fonctionnalités </span></p></h2>\n",
    "<h3 ><p class=\"fragment fade-up\" data-fragment-index=\"2\"><span style=\"color:#734d26;\">Suppression des features corrélées</span></p></h3>\n",
    "<p class=\"fragment\" data-fragment-index=\"3\" align=\"center\"><i style=\"color:#13060d;\">- Les caractéristiques hautement corrélées peuvent être supprimées</i></p>\n",
    "<p class=\"fragment\" data-fragment-index=\"3\" align=\"center\"><i style=\"color:#13060d;\">- Les caractéristiques qui ne fournissent aucune information supplémentaire au mode</i></p>\n",
    "<h3 ><p class=\"fragment fade-up\" data-fragment-index=\"4\"><span style=\"color:#734d26;\">Feature engineering</span></p></h3>\n",
    "<p class=\"fragment\" data-fragment-index=\"5\" align=\"center\"><i style=\"color:#13060d;\">- Créer des nouvelles fonctionnalités pour aider à améliorer les performances du modèle</i></p>\n",
    "<p class=\"fragment\" data-fragment-index=\"5\" align=\"center\"><i style=\"color:#13060d;\">- Devrait consulter des experts commerciaux et spécialisés</i></p>"
   ]
  },
  {
   "cell_type": "code",
   "execution_count": 82,
   "metadata": {
    "slideshow": {
     "slide_type": "subslide"
    }
   },
   "outputs": [
    {
     "name": "stdout",
     "output_type": "stream",
     "text": [
      "0    2.689011\n",
      "1    2.469903\n",
      "2    1.563462\n",
      "3    2.212360\n",
      "4    1.544628\n",
      "Name: Avg_Night_Calls, dtype: float64\n"
     ]
    }
   ],
   "source": [
    "# Create the new feature\n",
    "telco['Avg_Night_Calls'] = telco['Night_Mins'] / telco['Night_Calls']\n",
    "\n",
    "# Print the first five rows of 'Avg_Night_Calls'\n",
    "print(telco['Avg_Night_Calls'].head())"
   ]
  },
  {
   "cell_type": "code",
   "execution_count": 83,
   "metadata": {
    "slideshow": {
     "slide_type": "subslide"
    }
   },
   "outputs": [
    {
     "data": {
      "text/html": [
       "<div>\n",
       "<style scoped>\n",
       "    .dataframe tbody tr th:only-of-type {\n",
       "        vertical-align: middle;\n",
       "    }\n",
       "\n",
       "    .dataframe tbody tr th {\n",
       "        vertical-align: top;\n",
       "    }\n",
       "\n",
       "    .dataframe thead th {\n",
       "        text-align: right;\n",
       "    }\n",
       "</style>\n",
       "<table border=\"1\" class=\"dataframe\">\n",
       "  <thead>\n",
       "    <tr style=\"text-align: right;\">\n",
       "      <th></th>\n",
       "      <th>Account_Length</th>\n",
       "      <th>Vmail_Message</th>\n",
       "      <th>Day_Mins</th>\n",
       "      <th>Eve_Mins</th>\n",
       "      <th>Night_Mins</th>\n",
       "      <th>Intl_Mins</th>\n",
       "      <th>CustServ_Calls</th>\n",
       "      <th>Churn</th>\n",
       "      <th>Intl_Plan</th>\n",
       "      <th>Vmail_Plan</th>\n",
       "      <th>Day_Calls</th>\n",
       "      <th>Day_Charge</th>\n",
       "      <th>Eve_Calls</th>\n",
       "      <th>Eve_Charge</th>\n",
       "      <th>Night_Calls</th>\n",
       "      <th>Night_Charge</th>\n",
       "      <th>Intl_Calls</th>\n",
       "      <th>Intl_Charge</th>\n",
       "      <th>Avg_Night_Calls</th>\n",
       "    </tr>\n",
       "  </thead>\n",
       "  <tbody>\n",
       "    <tr>\n",
       "      <th>0</th>\n",
       "      <td>128</td>\n",
       "      <td>25</td>\n",
       "      <td>265.1</td>\n",
       "      <td>197.4</td>\n",
       "      <td>244.7</td>\n",
       "      <td>10.0</td>\n",
       "      <td>1</td>\n",
       "      <td>0</td>\n",
       "      <td>0</td>\n",
       "      <td>1</td>\n",
       "      <td>110</td>\n",
       "      <td>45.07</td>\n",
       "      <td>99</td>\n",
       "      <td>16.78</td>\n",
       "      <td>91</td>\n",
       "      <td>11.01</td>\n",
       "      <td>3</td>\n",
       "      <td>2.70</td>\n",
       "      <td>2.689011</td>\n",
       "    </tr>\n",
       "    <tr>\n",
       "      <th>1</th>\n",
       "      <td>107</td>\n",
       "      <td>26</td>\n",
       "      <td>161.6</td>\n",
       "      <td>195.5</td>\n",
       "      <td>254.4</td>\n",
       "      <td>13.7</td>\n",
       "      <td>1</td>\n",
       "      <td>0</td>\n",
       "      <td>0</td>\n",
       "      <td>1</td>\n",
       "      <td>123</td>\n",
       "      <td>27.47</td>\n",
       "      <td>103</td>\n",
       "      <td>16.62</td>\n",
       "      <td>103</td>\n",
       "      <td>11.45</td>\n",
       "      <td>3</td>\n",
       "      <td>3.70</td>\n",
       "      <td>2.469903</td>\n",
       "    </tr>\n",
       "    <tr>\n",
       "      <th>2</th>\n",
       "      <td>137</td>\n",
       "      <td>0</td>\n",
       "      <td>243.4</td>\n",
       "      <td>121.2</td>\n",
       "      <td>162.6</td>\n",
       "      <td>12.2</td>\n",
       "      <td>0</td>\n",
       "      <td>0</td>\n",
       "      <td>0</td>\n",
       "      <td>0</td>\n",
       "      <td>114</td>\n",
       "      <td>41.38</td>\n",
       "      <td>110</td>\n",
       "      <td>10.30</td>\n",
       "      <td>104</td>\n",
       "      <td>7.32</td>\n",
       "      <td>5</td>\n",
       "      <td>3.29</td>\n",
       "      <td>1.563462</td>\n",
       "    </tr>\n",
       "    <tr>\n",
       "      <th>3</th>\n",
       "      <td>84</td>\n",
       "      <td>0</td>\n",
       "      <td>299.4</td>\n",
       "      <td>61.9</td>\n",
       "      <td>196.9</td>\n",
       "      <td>6.6</td>\n",
       "      <td>2</td>\n",
       "      <td>0</td>\n",
       "      <td>1</td>\n",
       "      <td>0</td>\n",
       "      <td>71</td>\n",
       "      <td>50.90</td>\n",
       "      <td>88</td>\n",
       "      <td>5.26</td>\n",
       "      <td>89</td>\n",
       "      <td>8.86</td>\n",
       "      <td>7</td>\n",
       "      <td>1.78</td>\n",
       "      <td>2.212360</td>\n",
       "    </tr>\n",
       "    <tr>\n",
       "      <th>4</th>\n",
       "      <td>75</td>\n",
       "      <td>0</td>\n",
       "      <td>166.7</td>\n",
       "      <td>148.3</td>\n",
       "      <td>186.9</td>\n",
       "      <td>10.1</td>\n",
       "      <td>3</td>\n",
       "      <td>0</td>\n",
       "      <td>1</td>\n",
       "      <td>0</td>\n",
       "      <td>113</td>\n",
       "      <td>28.34</td>\n",
       "      <td>122</td>\n",
       "      <td>12.61</td>\n",
       "      <td>121</td>\n",
       "      <td>8.41</td>\n",
       "      <td>3</td>\n",
       "      <td>2.73</td>\n",
       "      <td>1.544628</td>\n",
       "    </tr>\n",
       "  </tbody>\n",
       "</table>\n",
       "</div>"
      ],
      "text/plain": [
       "   Account_Length  Vmail_Message  Day_Mins  Eve_Mins  Night_Mins  Intl_Mins  \\\n",
       "0             128             25     265.1     197.4       244.7       10.0   \n",
       "1             107             26     161.6     195.5       254.4       13.7   \n",
       "2             137              0     243.4     121.2       162.6       12.2   \n",
       "3              84              0     299.4      61.9       196.9        6.6   \n",
       "4              75              0     166.7     148.3       186.9       10.1   \n",
       "\n",
       "   CustServ_Calls  Churn  Intl_Plan  Vmail_Plan  Day_Calls  Day_Charge  \\\n",
       "0               1      0          0           1        110       45.07   \n",
       "1               1      0          0           1        123       27.47   \n",
       "2               0      0          0           0        114       41.38   \n",
       "3               2      0          1           0         71       50.90   \n",
       "4               3      0          1           0        113       28.34   \n",
       "\n",
       "   Eve_Calls  Eve_Charge  Night_Calls  Night_Charge  Intl_Calls  Intl_Charge  \\\n",
       "0         99       16.78           91         11.01           3         2.70   \n",
       "1        103       16.62          103         11.45           3         3.70   \n",
       "2        110       10.30          104          7.32           5         3.29   \n",
       "3         88        5.26           89          8.86           7         1.78   \n",
       "4        122       12.61          121          8.41           3         2.73   \n",
       "\n",
       "   Avg_Night_Calls  \n",
       "0         2.689011  \n",
       "1         2.469903  \n",
       "2         1.563462  \n",
       "3         2.212360  \n",
       "4         1.544628  "
      ]
     },
     "execution_count": 83,
     "metadata": {},
     "output_type": "execute_result"
    }
   ],
   "source": [
    "#Replace 'no' with 0 and 'yes' with 1 in 'Vmail_Plan'\n",
    "telco['Intl_Plan'] = telco['Intl_Plan'].replace({'no':0 , 'yes':1})\n",
    "#concatenate with column State\n",
    "#telco = pd.concat([telco,telco_state], axis=1)\n",
    "telco = telco.drop(['State'], axis=1)\n",
    "\n",
    "telco.head()"
   ]
  },
  {
   "cell_type": "markdown",
   "metadata": {
    "slideshow": {
     "slide_type": "slide"
    }
   },
   "source": [
    "<h1 ><p class=\"fragment fade-up\" data-fragment-index=\"1\"><span class=\"presentation_title\">5- Prédiction de Churn</span></p></h1>\n",
    "<h2 ><p class=\"fragment fade-up\" data-fragment-index=\"2\"><span class=\"bkg_contrastB\">5.1- Faire des prédictions</span></p></h2>\n",
    "<p class=\"fragment\" data-fragment-index=\"3\" align=\"center\"><i style=\"color:#13060d;\">Dans ce projet: </i></p>\n",
    "<p class=\"fragment\" data-fragment-index=\"4\" align=\"center\"><i style=\"color:#13060d;\">- Objectif : prédire si un client va ou non désabonner</i></p>\n",
    "<p class=\"fragment\" data-fragment-index=\"4\" align=\"center\"><i style=\"color:#13060d;\">- Variable cible : \"Churn\" (target)</i></p>\n",
    "<p class=\"fragment\" data-fragment-index=\"4\" align=\"center\"><i style=\"color:#13060d;\">- Apprentissage automatique supervisé</i></p>\n",
    "<p class=\"fragment\" data-fragment-index=\"4\" align=\"center\"><i style=\"color:#13060d;\">- Apprendre des données historiques (training) pour faire de nouvelles prédictions </i></p>"
   ]
  },
  {
   "cell_type": "markdown",
   "metadata": {
    "slideshow": {
     "slide_type": "subslide"
    }
   },
   "source": [
    "<p class=\"fragment fade-down\" data-fragment-index=\"1\" align=\"center\" ><span class=\"bkg_contrastR\"> Scikit-learn</span><i style=\"color:#13060d;\">est la bibliothèque la plus puissante et la plus robuste pour le machine learning en Python. Elle fournit une sélection d’outils efficaces pour l’apprentissage automatique et la modélisation statistique, notamment la classification, la régression et le clustering via une interface cohérente en Python.</i></p>\n",
    "<div style=\"display: flex; justify-content: space-around;\"class=\"center\">\n",
    "<p class=\"fragment fade-up\" data-fragment-index=\"1\" align=\"center\" ><img src=\"./img/scikitLearn.png\" width=\"450\" height=\"350\" style=\"border-radius: 10px\"></p>\n",
    "</div>"
   ]
  },
  {
   "cell_type": "markdown",
   "metadata": {
    "slideshow": {
     "slide_type": "subslide"
    }
   },
   "source": [
    "<h3 ><p class=\"fragment fade-up\" data-fragment-index=\"1\"><span style=\"color:#734d26;\">Modèles de Machine Learning d’Apprentissage supervisé</span></p></h3>\n",
    "<h3><p class=\"fragment fade-up\" data-fragment-index=\"2\"><span class=\"bkg_contrastB\"> Régression</span></p></h3>\n",
    "<p class=\"fragment\" data-fragment-index=\"3\" align=\"center\"><i style=\"color:#13060d;\">Dans les modèles de régression, la sortie est continue. Voici quelques types des modèles de régression les plus courants. </i></p>\n",
    "<h3 ><p class=\"fragment fade-up\" data-fragment-index=\"4\"><span class=\"bkg_contrastR\">1- Régression linéaire</span></p></h3>\n",
    "<p class=\"fragment\" data-fragment-index=\"4\" align=\"center\"><i style=\"color:#13060d;\">L’idée de la régression linéaire est simplement de trouver une ligne qui s’adapte le mieux aux données.</i></p>\n"
   ]
  },
  {
   "cell_type": "code",
   "execution_count": 47,
   "metadata": {
    "slideshow": {
     "slide_type": "subslide"
    }
   },
   "outputs": [
    {
     "data": {
      "text/html": [
       "<style>#sk-container-id-2 {color: black;background-color: white;}#sk-container-id-2 pre{padding: 0;}#sk-container-id-2 div.sk-toggleable {background-color: white;}#sk-container-id-2 label.sk-toggleable__label {cursor: pointer;display: block;width: 100%;margin-bottom: 0;padding: 0.3em;box-sizing: border-box;text-align: center;}#sk-container-id-2 label.sk-toggleable__label-arrow:before {content: \"▸\";float: left;margin-right: 0.25em;color: #696969;}#sk-container-id-2 label.sk-toggleable__label-arrow:hover:before {color: black;}#sk-container-id-2 div.sk-estimator:hover label.sk-toggleable__label-arrow:before {color: black;}#sk-container-id-2 div.sk-toggleable__content {max-height: 0;max-width: 0;overflow: hidden;text-align: left;background-color: #f0f8ff;}#sk-container-id-2 div.sk-toggleable__content pre {margin: 0.2em;color: black;border-radius: 0.25em;background-color: #f0f8ff;}#sk-container-id-2 input.sk-toggleable__control:checked~div.sk-toggleable__content {max-height: 200px;max-width: 100%;overflow: auto;}#sk-container-id-2 input.sk-toggleable__control:checked~label.sk-toggleable__label-arrow:before {content: \"▾\";}#sk-container-id-2 div.sk-estimator input.sk-toggleable__control:checked~label.sk-toggleable__label {background-color: #d4ebff;}#sk-container-id-2 div.sk-label input.sk-toggleable__control:checked~label.sk-toggleable__label {background-color: #d4ebff;}#sk-container-id-2 input.sk-hidden--visually {border: 0;clip: rect(1px 1px 1px 1px);clip: rect(1px, 1px, 1px, 1px);height: 1px;margin: -1px;overflow: hidden;padding: 0;position: absolute;width: 1px;}#sk-container-id-2 div.sk-estimator {font-family: monospace;background-color: #f0f8ff;border: 1px dotted black;border-radius: 0.25em;box-sizing: border-box;margin-bottom: 0.5em;}#sk-container-id-2 div.sk-estimator:hover {background-color: #d4ebff;}#sk-container-id-2 div.sk-parallel-item::after {content: \"\";width: 100%;border-bottom: 1px solid gray;flex-grow: 1;}#sk-container-id-2 div.sk-label:hover label.sk-toggleable__label {background-color: #d4ebff;}#sk-container-id-2 div.sk-serial::before {content: \"\";position: absolute;border-left: 1px solid gray;box-sizing: border-box;top: 0;bottom: 0;left: 50%;z-index: 0;}#sk-container-id-2 div.sk-serial {display: flex;flex-direction: column;align-items: center;background-color: white;padding-right: 0.2em;padding-left: 0.2em;position: relative;}#sk-container-id-2 div.sk-item {position: relative;z-index: 1;}#sk-container-id-2 div.sk-parallel {display: flex;align-items: stretch;justify-content: center;background-color: white;position: relative;}#sk-container-id-2 div.sk-item::before, #sk-container-id-2 div.sk-parallel-item::before {content: \"\";position: absolute;border-left: 1px solid gray;box-sizing: border-box;top: 0;bottom: 0;left: 50%;z-index: -1;}#sk-container-id-2 div.sk-parallel-item {display: flex;flex-direction: column;z-index: 1;position: relative;background-color: white;}#sk-container-id-2 div.sk-parallel-item:first-child::after {align-self: flex-end;width: 50%;}#sk-container-id-2 div.sk-parallel-item:last-child::after {align-self: flex-start;width: 50%;}#sk-container-id-2 div.sk-parallel-item:only-child::after {width: 0;}#sk-container-id-2 div.sk-dashed-wrapped {border: 1px dashed gray;margin: 0 0.4em 0.5em 0.4em;box-sizing: border-box;padding-bottom: 0.4em;background-color: white;}#sk-container-id-2 div.sk-label label {font-family: monospace;font-weight: bold;display: inline-block;line-height: 1.2em;}#sk-container-id-2 div.sk-label-container {text-align: center;}#sk-container-id-2 div.sk-container {/* jupyter's `normalize.less` sets `[hidden] { display: none; }` but bootstrap.min.css set `[hidden] { display: none !important; }` so we also need the `!important` here to be able to override the default hidden behavior on the sphinx rendered scikit-learn.org. See: https://github.com/scikit-learn/scikit-learn/issues/21755 */display: inline-block !important;position: relative;}#sk-container-id-2 div.sk-text-repr-fallback {display: none;}</style><div id=\"sk-container-id-2\" class=\"sk-top-container\"><div class=\"sk-text-repr-fallback\"><pre>LogisticRegression(max_iter=5000, solver=&#x27;saga&#x27;)</pre><b>In a Jupyter environment, please rerun this cell to show the HTML representation or trust the notebook. <br />On GitHub, the HTML representation is unable to render, please try loading this page with nbviewer.org.</b></div><div class=\"sk-container\" hidden><div class=\"sk-item\"><div class=\"sk-estimator sk-toggleable\"><input class=\"sk-toggleable__control sk-hidden--visually\" id=\"sk-estimator-id-2\" type=\"checkbox\" checked><label for=\"sk-estimator-id-2\" class=\"sk-toggleable__label sk-toggleable__label-arrow\">LogisticRegression</label><div class=\"sk-toggleable__content\"><pre>LogisticRegression(max_iter=5000, solver=&#x27;saga&#x27;)</pre></div></div></div></div></div>"
      ],
      "text/plain": [
       "LogisticRegression(max_iter=5000, solver='saga')"
      ]
     },
     "execution_count": 47,
     "metadata": {},
     "output_type": "execute_result"
    }
   ],
   "source": [
    "# Import LogisticRegression\n",
    "from sklearn.linear_model import LogisticRegression\n",
    "\n",
    "features = telco.drop([\"Churn\"], axis=1).columns\n",
    "\n",
    "# Instantiate the classifier\n",
    "clf = LogisticRegression(solver='saga', max_iter=5000)\n",
    "\n",
    "# Fit the classifier\n",
    "clf.fit(telco[features], telco['Churn'])\n",
    "\n",
    "# Predict the label of new_customer\n",
    "#print(clf.predict(new_customer))\n"
   ]
  },
  {
   "cell_type": "markdown",
   "metadata": {
    "slideshow": {
     "slide_type": "subslide"
    }
   },
   "source": [
    "<h3 ><p class=\"fragment fade-up\" data-fragment-index=\"1\"><span class=\"bkg_contrastR\">2- Random Forest (Forêt d’arbres décisionnels)</span></p></h3>\n",
    "<p class=\"fragment\" data-fragment-index=\"2\" align=\"center\"><i style=\"color:#13060d;\">Les forêts d’arbres décisionnels ou forêts aléatoires (Random Forest) c'est une technique d’apprentissage ensembliste qui s’appuie sur des arbres de décision.</i></p>\n",
    "<h3><p class=\"fragment fade-up\" data-fragment-index=\"3\"><span class=\"bkg_contrastB\"> Classification</span></p></h3>\n",
    "<p class=\"fragment\" data-fragment-index=\"3\" align=\"center\"><i style=\"color:#13060d;\">Dans les modèles de classification, la sortie est discrète. Voici quelques types des modèles de classification les plus courants. </i></p>\n",
    "<h3 ><p class=\"fragment fade-up\" data-fragment-index=\"4\"><span class=\"bkg_contrastR\">1- Support Vector Machine (SVM)</span></p></h3>\n",
    "<p class=\"fragment\" data-fragment-index=\"4\" align=\"center\"><i style=\"color:#13060d;\">Dans l'algorithme SVM, nous traçons chaque élément de données comme un point dans un espace à n dimensions avec la valeur de chaque caractéristique étant la valeur d'une coordonnée particulière. Ensuite, nous effectuons une classification en trouvant l'hyper-plan qui différencie très bien les deux classes.</i></p>\n",
    "\n"
   ]
  },
  {
   "cell_type": "markdown",
   "metadata": {
    "slideshow": {
     "slide_type": "subslide"
    }
   },
   "source": [
    "<h2 ><p class=\"fragment fade-up\" data-fragment-index=\"1\"><span class=\"bkg_contrastB\">5.2- Évaluer les performances du modèle</span></p></h2>\n",
    "<h3 ><p class=\"fragment fade-up\" data-fragment-index=\"2\"><span class=\"bkg_contrastR\">1- Training and Test Sets</span></p></h3>\n",
    "<p class=\"fragment\" data-fragment-index=\"3\" align=\"center\"><i style=\"color:#13060d;\">La première étape lors de la création d'un modèle consiste à diviser les données en deux groupes, généralement appelés training et testing .</i></p>\n",
    "<p class=\"fragment\" data-fragment-index=\"4\" align=\"center\"><i style=\"color:#13060d;\">Le <u>training </u>est utilisé par l'algorithme d'apprentissage automatique pour créer le modèle.</i></p>\n",
    "<p class=\"fragment\" data-fragment-index=\"5\" align=\"center\"><i style=\"color:#13060d;\">L'ensemble de <u>test </u>contient des échantillons qui ne font pas partie du processus d'apprentissage et est utilisé pour évaluer les performances du modèle.</i></p>"
   ]
  },
  {
   "cell_type": "markdown",
   "metadata": {
    "slideshow": {
     "slide_type": "subslide"
    }
   },
   "source": [
    "<div style=\"display: flex; justify-content: space-around;\"class=\"center\">\n",
    "<p class=\"fragment fade-up\" data-fragment-index=\"1\" align=\"center\" ><img src=\"./img/training.png\" width=\"550\" height=\"500\" style=\"border-radius: 10px\"></p>"
   ]
  },
  {
   "cell_type": "code",
   "execution_count": 84,
   "metadata": {
    "slideshow": {
     "slide_type": "subslide"
    }
   },
   "outputs": [],
   "source": [
    "# Import train_test_split\n",
    "from sklearn.model_selection import train_test_split\n",
    "\n",
    "# Create feature variable\n",
    "X = telco.drop('Churn', axis=1)\n",
    "\n",
    "# Create target variable\n",
    "y = telco['Churn']\n",
    "\n",
    "# Create training and testing sets\n",
    "X_train, X_test, y_train, y_test = train_test_split(X, y, test_size = 0.3)"
   ]
  },
  {
   "cell_type": "markdown",
   "metadata": {
    "slideshow": {
     "slide_type": "subslide"
    }
   },
   "source": [
    "<h3 ><p class=\"fragment fade-up\" data-fragment-index=\"1\"><span class=\"bkg_contrastR\">2- Accuracy</span></p></h3>\n",
    "<p class=\"fragment\" data-fragment-index=\"2\" align=\"center\"><i style=\"color:#13060d;\">Accuracy est le nombre de points de données correctement prédits sur tous les points de données.</i></p>\n",
    "<p class=\"fragment\" data-fragment-index=\"3\" align=\"center\"><i style=\"color:#13060d;\">Plus formellement, il est défini comme le nombre de vrais positifs et de vrais négatifs divisé par le nombre de vrais positifs, de vrais négatifs, de faux positifs et de faux négatifs: </i></p>\n",
    "<div style=\"display: flex; justify-content: space-around;\"class=\"center\">\n",
    "<p class=\"fragment fade-up\" data-fragment-index=\"3\" align=\"center\" ><img src=\"./img/formule.png\" width=\"550\" height=\"500\" style=\"border-radius: 10px\"></p>&nbsp;  &nbsp; &nbsp;&nbsp;\n",
    "<p class=\"fragment fade-up\" data-fragment-index=\"3\" align=\"center\" ><img src=\"./img/acc.png\" width=\"550\" height=\"500\" style=\"border-radius: 10px\"></p>\n",
    "</div>"
   ]
  },
  {
   "cell_type": "code",
   "execution_count": 85,
   "metadata": {
    "slideshow": {
     "slide_type": "subslide"
    }
   },
   "outputs": [
    {
     "name": "stdout",
     "output_type": "stream",
     "text": [
      "0.958\n"
     ]
    }
   ],
   "source": [
    "# Import RandomForestClassifier\n",
    "from sklearn.ensemble import RandomForestClassifier\n",
    "\n",
    "# Instantiate the classifier\n",
    "clf = RandomForestClassifier()\n",
    "\n",
    "# Fit to the training data\n",
    "clf.fit(X_train, y_train)\n",
    "\n",
    "# Compute accuracy\n",
    "print(clf.score(X_test, y_test))"
   ]
  },
  {
   "cell_type": "markdown",
   "metadata": {
    "slideshow": {
     "slide_type": "subslide"
    }
   },
   "source": [
    "<p class=\"fragment\" data-fragment-index=\"3\" align=\"center\"><i style=\"color:#13060d;\">La accuracy est de 0.953, soit 95% (95 prédictions correctes sur le nombre total d'exemples).</i> </p>"
   ]
  },
  {
   "cell_type": "markdown",
   "metadata": {
    "slideshow": {
     "slide_type": "subslide"
    }
   },
   "source": [
    "<h3 ><p class=\"fragment fade-up\" data-fragment-index=\"1\"><span class=\"bkg_contrastR\">3- Model Metrics</span></p></h3>\n",
    "<p class=\"fragment\" data-fragment-index=\"2\" align=\"center\"><i style=\"color:#13060d;\">Une Metric est une fonction utilisée pour évaluer les performances de votre modèle.</i></p>\n",
    "<p class=\"fragment\" data-fragment-index=\"2\" align=\"center\"><i style=\"color:#13060d;\">Les fonctions metrics sont similaires aux fonctions de perte(loss functions), sauf que les résultats de l'évaluation d'une metric ne sont pas utilisés lors de la formation du modèle.</i></p>\n",
    "<div style=\"display: flex; justify-content: space-around;\"class=\"center\">\n",
    "<p class=\"fragment fade-up\" data-fragment-index=\"2\" align=\"center\" ><img src=\"./img/confusion.png\" width=\"550\" height=\"500\" style=\"border-radius: 10px\"></p>\n",
    "</div>"
   ]
  },
  {
   "cell_type": "code",
   "execution_count": 86,
   "metadata": {
    "slideshow": {
     "slide_type": "subslide"
    }
   },
   "outputs": [
    {
     "name": "stdout",
     "output_type": "stream",
     "text": [
      "[[853   7]\n",
      " [ 35 105]]\n"
     ]
    }
   ],
   "source": [
    "# Import confusion_matrix\n",
    "from sklearn.metrics import confusion_matrix\n",
    "\n",
    "y_pred = clf.predict(X_test)\n",
    "# Print the confusion matrix\n",
    "print(confusion_matrix(y_test, y_pred))"
   ]
  },
  {
   "cell_type": "markdown",
   "metadata": {
    "slideshow": {
     "slide_type": "subslide"
    }
   },
   "source": [
    "<h3 ><p class=\"fragment fade-up\" data-fragment-index=\"1\"><span style=\"color:#734d26;\">Precision et Recall</span></h3>\n",
    "<p class=\"fragment\" data-fragment-index=\"2\" align=\"center\"><i style=\"color:#13060d;\">La precision et le recall sont deux métriques essentielles en classification, du fait de leur robustesse et de leur interprétabilité, Ces métriques sont basées sur la matrice de confusion. </i></p>"
   ]
  },
  {
   "cell_type": "markdown",
   "metadata": {
    "slideshow": {
     "slide_type": "subslide"
    }
   },
   "source": [
    "<h3 ><p class=\"fragment fade-up\" data-fragment-index=\"1\"><span style=\"color:#734d26;\">La precision</span></h3>\n",
    "<p class=\"fragment\" data-fragment-index=\"1\" align=\"center\"><i style=\"color:#13060d;\">est également appelée Positive Predictive Value. Elle correspond au taux de prédictions correctes parmi les prédictions positives :</i></p>\n",
    "<div style=\"display: flex; justify-content: space-around;\"class=\"center\">\n",
    "<p class=\"fragment fade-up\" data-fragment-index=\"2\" align=\"center\" ><img src=\"./img/precision.png\" width=\"550\" height=\"500\" style=\"border-radius: 10px\"></p>\n",
    "</div>\n",
    "<p class=\"fragment\" data-fragment-index=\"3\" align=\"center\"><i style=\"color:#13060d;\">Elle mesure la capacité du modèle à ne pas faire d’erreur lors d’une prédiction positive.</i></p>"
   ]
  },
  {
   "cell_type": "markdown",
   "metadata": {
    "slideshow": {
     "slide_type": "subslide"
    }
   },
   "source": [
    "<h3 ><p class=\"fragment fade-up\" data-fragment-index=\"1\"><span style=\"color:#734d26;\">Le recall</span></h3>\n",
    "<p class=\"fragment\" data-fragment-index=\"1\" align=\"center\"><i style=\"color:#13060d;\">est également appelé sensitivity (sensibilité), true positive rate ou encore hit rate (taux de détection). Il correspond au taux d’individus positifs détectés par le modèle :</i></p>\n",
    "<div style=\"display: flex; justify-content: space-around;\"class=\"center\">\n",
    "<p class=\"fragment fade-up\" data-fragment-index=\"2\" align=\"center\" ><img src=\"./img/recall.png\" width=\"550\" height=\"500\" style=\"border-radius: 10px\"></p>\n",
    "</div>\n",
    "<p class=\"fragment\" data-fragment-index=\"3\" align=\"center\"><i style=\"color:#13060d;\">Il mesure la capacité du modèle à détecter l’ensemble des individus positifs.</i></p>"
   ]
  },
  {
   "cell_type": "code",
   "execution_count": 87,
   "metadata": {
    "slideshow": {
     "slide_type": "subslide"
    }
   },
   "outputs": [],
   "source": [
    "# Create feature variable\n",
    "X = telco.drop('Churn', axis=1)\n",
    "\n",
    "# Create target variable\n",
    "y = telco['Churn']\n",
    "\n",
    "# Create training and testing sets\n",
    "X_train, X_test, y_train, y_test = train_test_split(X, y, test_size=0.1)\n",
    "\n",
    "# Import RandomForestClassifier\n",
    "from sklearn.ensemble import RandomForestClassifier\n",
    "\n",
    "# Instantiate the classifier\n",
    "clf = RandomForestClassifier()\n",
    "\n",
    "# Fit to the training data\n",
    "clf.fit(X_train, y_train)\n",
    "\n",
    "# Predict the labels of the test set\n",
    "y_pred = clf.predict(X_test)\n"
   ]
  },
  {
   "cell_type": "code",
   "execution_count": 88,
   "metadata": {
    "slideshow": {
     "slide_type": "subslide"
    }
   },
   "outputs": [
    {
     "name": "stdout",
     "output_type": "stream",
     "text": [
      "0.9302325581395349\n",
      "0.7017543859649122\n"
     ]
    }
   ],
   "source": [
    "\n",
    "# Import precision_score\n",
    "from sklearn.metrics import precision_score\n",
    "\n",
    "# Print the precision\n",
    "print(precision_score(y_test, y_pred))\n",
    "\n",
    "# Import recall_score\n",
    "from sklearn.metrics import recall_score\n",
    "\n",
    "# Print the recall\n",
    "print(recall_score(y_test, y_pred))"
   ]
  },
  {
   "cell_type": "markdown",
   "metadata": {
    "slideshow": {
     "slide_type": "subslide"
    }
   },
   "source": [
    "<h3 ><p class=\"fragment fade-up\" data-fragment-index=\"1\"><span style=\"color:#734d26;\">Precision vs Recall</span></h3>\n",
    "<div style=\"display: flex; justify-content: space-around;\"class=\"center\">\n",
    "<p class=\"fragment fade-up\" data-fragment-index=\"2\" align=\"center\" ><img src=\"./img/precVSrec.png\" width=\"550\" height=\"500\" style=\"border-radius: 10px\"></p>\n",
    "</div>"
   ]
  },
  {
   "cell_type": "markdown",
   "metadata": {
    "slideshow": {
     "slide_type": "slide"
    }
   },
   "source": [
    "<h1 ><p class=\"fragment fade-up\" data-fragment-index=\"1\"><span class=\"presentation_title\">6- Tuning le modèle</span></p></h1>\n",
    "\n",
    "<p class=\"fragment\" data-fragment-index=\"2\" align=\"center\"><i style=\"color:#13060d;\">Le réglage (tuning) est le processus de maximisation des performances d'un modèle sans surajustement ni création d'une variance trop élevée.</i></p>\n",
    "<p class=\"fragment\" data-fragment-index=\"3\" align=\"center\"><i style=\"color:#13060d;\">Dans l'apprentissage automatique, cela se fait en sélectionnant les « hyperparamètres » appropriés.</i></p>\n",
    "<h3 ><p class=\"fragment fade-up\" data-fragment-index=\"4\"><span class=\"bkg_contrastB\">6.1- Réglage de votre modèle</span></p></h3>\n",
    "<p class=\"fragment\" data-fragment-index=\"4\" align=\"center\"><i style=\"color:#13060d;\">Les hyperparamètres diffèrent des autres paramètres du modèle en ce sens qu'ils ne sont pas appris automatiquement par le modèle via des méthodes d'apprentissage. Au lieu de cela, ces paramètres doivent être définis manuellement.</i></p>\n",
    "<p class=\"fragment\" data-fragment-index=\"5\" align=\"center\"><i style=\"color:#13060d;\">De nombreuses méthodes existent pour sélectionner les hyperparamètres appropriés:</i></p>\n",
    "<p class=\"fragment\" data-fragment-index=\"5\" align=\"center\"><i style=\"color:#13060d;\">- Grid search</i></p>\n",
    "<p class=\"fragment\" data-fragment-index=\"5\" align=\"center\"><i style=\"color:#13060d;\">- Random forest hyperparameters</i></p>\n",
    "\n"
   ]
  },
  {
   "cell_type": "markdown",
   "metadata": {
    "slideshow": {
     "slide_type": "subslide"
    }
   },
   "source": [
    "<h3 ><p class=\"fragment fade-up\" data-fragment-index=\"1\"><span style=\"color:#734d26;\">Tuning the number of features</span></h3>\n",
    "<p class=\"fragment\" data-fragment-index=\"2\" align=\"center\"><i style=\"color:#13060d;\">Les hyperparamètres par défaut utilisés par vos modèles ne sont pas optimisés pour vos données. L'objectif de la cross-validation de la grid search est d'identifier les hyperparamètres qui conduisent à des performances optimales du modèle. </i></p>\n",
    "<div style=\"display: flex; justify-content: space-around;\"class=\"center\">\n",
    "<p class=\"fragment fade-up\" data-fragment-index=\"2\" align=\"center\" ><img src=\"./img/hyper1.png\" width=\"550\" height=\"500\" style=\"border-radius: 10px\"></p>\n",
    "</div>"
   ]
  },
  {
   "cell_type": "code",
   "execution_count": 89,
   "metadata": {
    "slideshow": {
     "slide_type": "subslide"
    }
   },
   "outputs": [
    {
     "name": "stderr",
     "output_type": "stream",
     "text": [
      "C:\\Users\\rihab\\anaconda3\\lib\\site-packages\\sklearn\\ensemble\\_forest.py:427: FutureWarning: `max_features='auto'` has been deprecated in 1.1 and will be removed in 1.3. To keep the past behaviour, explicitly set `max_features='sqrt'` or remove this parameter as it is also the default value for RandomForestClassifiers and ExtraTreesClassifiers.\n",
      "  warn(\n",
      "C:\\Users\\rihab\\anaconda3\\lib\\site-packages\\sklearn\\ensemble\\_forest.py:427: FutureWarning: `max_features='auto'` has been deprecated in 1.1 and will be removed in 1.3. To keep the past behaviour, explicitly set `max_features='sqrt'` or remove this parameter as it is also the default value for RandomForestClassifiers and ExtraTreesClassifiers.\n",
      "  warn(\n",
      "C:\\Users\\rihab\\anaconda3\\lib\\site-packages\\sklearn\\ensemble\\_forest.py:427: FutureWarning: `max_features='auto'` has been deprecated in 1.1 and will be removed in 1.3. To keep the past behaviour, explicitly set `max_features='sqrt'` or remove this parameter as it is also the default value for RandomForestClassifiers and ExtraTreesClassifiers.\n",
      "  warn(\n"
     ]
    },
    {
     "name": "stdout",
     "output_type": "stream",
     "text": [
      "{'max_features': 'sqrt'}\n"
     ]
    }
   ],
   "source": [
    "# Import GridSearchCV\n",
    "from sklearn.model_selection import GridSearchCV\n",
    "\n",
    "# Create the hyperparameter grid\n",
    "param_grid = {'max_features': ['auto', 'sqrt', 'log2']}\n",
    "\n",
    "# Call GridSearchCV\n",
    "grid_search = GridSearchCV(clf, param_grid, cv=3)\n",
    "\n",
    "# Fit the model\n",
    "grid_search.fit(X, y)\n",
    "\n",
    "# Print the optimal parameters\n",
    "print(grid_search.best_params_)"
   ]
  },
  {
   "cell_type": "markdown",
   "metadata": {
    "slideshow": {
     "slide_type": "subslide"
    }
   },
   "source": [
    "<h3 ><p class=\"fragment fade-up\" data-fragment-index=\"1\"><span style=\"color:#734d26;\">Tuning other hyperparameters</span></h3>\n",
    "<p class=\"fragment\" data-fragment-index=\"2\" align=\"center\"><i style=\"color:#13060d;\">La puissance de GridSearchCV entre vraiment en jeu lorsque vous réglez plusieurs hyperparamètres, car l'algorithme teste alors toutes les combinaisons possibles d'hyperparamètres pour identifier la meilleure combinaison. </i></p>\n",
    "<p class=\"fragment\" data-fragment-index=\"2\" align=\"center\"><i style=\"color:#13060d;\">Ici, vous allez régler les hyperparamètres de forêt aléatoire suivants :</i></p>\n",
    "<div style=\"display: flex; justify-content: space-around;\"class=\"center\">\n",
    "<p class=\"fragment fade-up\" data-fragment-index=\"2\" align=\"center\" ><img src=\"./img/hyper2.png\" width=\"550\" height=\"500\" style=\"border-radius: 10px\"></p>\n",
    "</div>"
   ]
  },
  {
   "cell_type": "code",
   "execution_count": 90,
   "metadata": {
    "slideshow": {
     "slide_type": "subslide"
    }
   },
   "outputs": [
    {
     "name": "stdout",
     "output_type": "stream",
     "text": [
      "{'bootstrap': True, 'criterion': 'entropy', 'max_depth': None, 'max_features': 10}\n"
     ]
    }
   ],
   "source": [
    "# Import GridSearchCV\n",
    "from sklearn.model_selection import GridSearchCV\n",
    "\n",
    "# Create the hyperparameter grid\n",
    "param_grid = {\"max_depth\": [3, None],\n",
    "              \"max_features\": [1, 3, 10],\n",
    "              \"bootstrap\": [True, False],\n",
    "              \"criterion\": [\"gini\", \"entropy\"]}\n",
    "\n",
    "# Call GridSearchCV\n",
    "grid_search = GridSearchCV(clf, param_grid, cv=3)\n",
    "\n",
    "# Fit the model\n",
    "grid_search.fit(X, y)\n",
    "\n",
    "# Print the best hyperparameters\n",
    "print(grid_search.best_params_) "
   ]
  },
  {
   "cell_type": "markdown",
   "metadata": {
    "slideshow": {
     "slide_type": "subslide"
    }
   },
   "source": [
    "<h3 ><p class=\"fragment fade-up\" data-fragment-index=\"1\"><span style=\"color:#734d26;\">Randomized search</span></h3>\n",
    "<p class=\"fragment\" data-fragment-index=\"2\" align=\"center\"><i style=\"color:#13060d;\">Dans scikit-learn, vous pouvez le faire avec RandomizedSearchCV. Il a la même API que GridSearchCV, sauf que vous devez spécifier une distribution de paramètres à partir de laquelle il peut échantillonner au lieu de valeurs d'hyperparamètres spécifiques. </i></p>"
   ]
  },
  {
   "cell_type": "code",
   "execution_count": 91,
   "metadata": {
    "slideshow": {
     "slide_type": "subslide"
    }
   },
   "outputs": [
    {
     "name": "stdout",
     "output_type": "stream",
     "text": [
      "{'max_features': 10, 'max_depth': None, 'criterion': 'gini', 'bootstrap': True}\n"
     ]
    }
   ],
   "source": [
    "# Import RandomizedSearchCV\n",
    "from sklearn.model_selection import RandomizedSearchCV\n",
    "\n",
    "# Create the hyperparameter grid\n",
    "param_dist = {\"max_depth\": [3, None],\n",
    "              \"max_features\": [1, 3, 10],\n",
    "              \"bootstrap\": [True, False],\n",
    "              \"criterion\": [\"gini\", \"entropy\"]}\n",
    "\n",
    "# Call RandomizedSearchCV\n",
    "random_search = RandomizedSearchCV(clf, param_dist, cv=3)\n",
    "\n",
    "# Fit the model\n",
    "random_search.fit(X, y)\n",
    "\n",
    "# Print best parameters\n",
    "print(random_search.best_params_)"
   ]
  },
  {
   "cell_type": "markdown",
   "metadata": {
    "slideshow": {
     "slide_type": "subslide"
    }
   },
   "source": [
    "<h3 ><p class=\"fragment fade-up\" data-fragment-index=\"1\"><span class=\"bkg_contrastB\">6.2- Visualizing feature importances</span></p></h3>\n",
    "<p class=\"fragment\" data-fragment-index=\"2\" align=\"center\"><i style=\"color:#13060d;\">- Scores représentant la contribution de chaque caractéristique à une prédiction</i></p>\n",
    "<p class=\"fragment\" data-fragment-index=\"2\" align=\"center\"><i style=\"color:#13060d;\">- Moyen efficace de communiquer les résultats aux parties prenantes</i></p>\n"
   ]
  },
  {
   "cell_type": "code",
   "execution_count": 92,
   "metadata": {
    "slideshow": {
     "slide_type": "subslide"
    }
   },
   "outputs": [
    {
     "data": {
      "image/png": "[encoded data removed]",
      "text/plain": [
       "<Figure size 432x288 with 1 Axes>"
      ]
     },
     "metadata": {
      "needs_background": "light"
     },
     "output_type": "display_data"
    }
   ],
   "source": [
    "# Calculate feature importances\n",
    "importances =clf.feature_importances_\n",
    "\n",
    "# Create plot\n",
    "plt.barh(range(X.shape[1]), importances)\n",
    "plt.show()"
   ]
  },
  {
   "cell_type": "markdown",
   "metadata": {
    "slideshow": {
     "slide_type": "subslide"
    }
   },
   "source": [
    "<h3 ><p class=\"fragment fade-up\" data-fragment-index=\"1\"><span class=\"bkg_contrastB\">6.3- Ajouter de nouvelles Features</span></p></h3>\n",
    "<h3 ><p class=\"fragment fade-up\" data-fragment-index=\"1\"><span style=\"color:#734d26;\">Sources de données supplémentaires</span></p></h3>\n",
    "<div style=\"display: flex; justify-content: space-around;\"class=\"center\">\n",
    "<p class=\"fragment fade-up\" data-fragment-index=\"2\" align=\"center\" ><img src=\"./img/sources.png\" width=\"550\" height=\"500\" style=\"border-radius: 10px\"></p>\n",
    "</div>\n"
   ]
  },
  {
   "cell_type": "markdown",
   "metadata": {
    "slideshow": {
     "slide_type": "subslide"
    }
   },
   "source": [
    "<p class=\"fragment\" data-fragment-index=\"1\" align=\"center\"><i style=\"color:#13060d;\">On va ajouter 6 nouvelles fonctionnalités ont été ajoutées au DataFrame telco :</i></p>\n",
    "<p class=\"fragment\" data-fragment-index=\"1\" align=\"center\"><i style=\"color:#13060d;\">Region_Code, Cost_Call, Total_Charge, Total_Minutes, Total_Calls, Min_Call </i></p>\n",
    "<h3 ><p class=\"fragment fade-up\" data-fragment-index=\"2\"><span style=\"color:#FF0000;\">Les performances du modèle s'améliorent-elles ?</span></p></h3>\n"
   ]
  },
  {
   "cell_type": "code",
   "execution_count": 93,
   "metadata": {
    "slideshow": {
     "slide_type": "subslide"
    }
   },
   "outputs": [
    {
     "name": "stdout",
     "output_type": "stream",
     "text": [
      "0.943\n"
     ]
    }
   ],
   "source": [
    "# Import necessary modules\n",
    "from sklearn.model_selection import train_test_split\n",
    "from sklearn.ensemble import RandomForestClassifier\n",
    "\n",
    "# Create training and testing sets\n",
    "X_train, X_test, y_train, y_test = train_test_split(X, y, test_size=0.3)\n",
    "\n",
    "# Instantiate the classifier\n",
    "clf = RandomForestClassifier()\n",
    "\n",
    "# Fit to the data\n",
    "clf.fit(X_train, y_train)\n",
    "\n",
    "# Print the accuracy\n",
    "print(clf.score(X_test, y_test))\n"
   ]
  },
  {
   "cell_type": "markdown",
   "metadata": {
    "slideshow": {
     "slide_type": "subslide"
    }
   },
   "source": [
    "<p class=\"fragment\" data-fragment-index=\"1\" align=\"center\"><i style=\"color:#13060d;\">oui,amélioration du modèle</i></p>\n",
    "<div style=\"display: flex; justify-content: space-around;\"class=\"center\">\n",
    "<p class=\"fragment fade-up\" data-fragment-index=\"2\" align=\"center\" ><img src=\"./img/model.png\" width=\"550\" height=\"500\" style=\"border-radius: 10px\"></p>\n",
    "</div>"
   ]
  },
  {
   "cell_type": "markdown",
   "metadata": {
    "slideshow": {
     "slide_type": "subslide"
    }
   },
   "source": [
    "<h3 ><p class=\"fragment fade-up\" data-fragment-index=\"1\"><span style=\"color:#734d26;\">Avantages et Coûte</span></p></h3>\n",
    "<p class=\"fragment\" data-fragment-index=\"2\" align=\"center\"><i style=\"color:#13060d;\"><span class=\"bkg_contrastR\">Avantages</span></i></p>\n",
    "<p class=\"fragment\" data-fragment-index=\"3\" align=\"center\"><i style=\"color:#13060d;\">- Meilleur retour sur investissement</i></p>\n",
    "<p class=\"fragment\" data-fragment-index=\"4\" align=\"center\"><i style=\"color:#13060d;\">- Réduction des coûts </i></p>\n",
    "<p class=\"fragment\" data-fragment-index=\"5\" align=\"center\"><i style=\"color:#13060d;\">- Augmentation des performances </i></p>\n",
    "<p class=\"fragment\" data-fragment-index=\"6\" align=\"center\"><i style=\"color:#13060d;\"><span class=\"bkg_contrastR\">Coûte</span></i></p>\n",
    "<p class=\"fragment\" data-fragment-index=\"7\" align=\"center\"><i style=\"color:#13060d;\">- Plus grande complexité </i></p>\n",
    "<p class=\"fragment\" data-fragment-index=\"8\" align=\"center\"><i style=\"color:#13060d;\">- Augmentation des ressources </i></p>\n",
    "<p class=\"fragment\" data-fragment-index=\"9\" align=\"center\"><i style=\"color:#13060d;\">- Augmentation du temps d'opérationnalisation</i></p>\n"
   ]
  },
  {
   "cell_type": "markdown",
   "metadata": {
    "slideshow": {
     "slide_type": "slide"
    }
   },
   "source": [
    "<h1 ><p class=\"fragment fade-up\" data-fragment-index=\"1\"><span class=\"presentation_title\">7- Conclusion</span></p></h1>\n",
    "<p class=\"fragment\" data-fragment-index=\"2\" align=\"center\"><i style=\"color:#13060d;\">Le modèle peut être étendu pour prédire quand un client va se désabonner. Il aidera également les équipes de vente/service client à réduire les taux de désabonnement en ciblant les bons clients au bon moment. </i></p>"
   ]
  }
 ],
 "metadata": {
  "celltoolbar": "Diaporama",
  "kernelspec": {
   "display_name": "Python 3",
   "language": "python",
   "name": "python3"
  },
  "language_info": {
   "codemirror_mode": {
    "name": "ipython",
    "version": 3
   },
   "file_extension": ".py",
   "mimetype": "text/x-python",
   "name": "python",
   "nbconvert_exporter": "python",
   "pygments_lexer": "ipython3",
   "version": "3.8.8"
  },
  "livereveal": {
   "autolaunch": true
  },
  "notify_time": "5",
  "rise": {
   "center": true
  },
  "toc": {
   "base_numbering": 1,
   "nav_menu": {},
   "number_sections": true,
   "sideBar": true,
   "skip_h1_title": true,
   "title_cell": "Table of Contents",
   "title_sidebar": "Contents",
   "toc_cell": false,
   "toc_position": {},
   "toc_section_display": true,
   "toc_window_display": false
  },
  "varInspector": {
   "cols": {
    "lenName": 16,
    "lenType": 16,
    "lenVar": 40
   },
   "kernels_config": {
    "python": {
     "delete_cmd_postfix": "",
     "delete_cmd_prefix": "del ",
     "library": "var_list.py",
     "varRefreshCmd": "print(var_dic_list())"
    },
    "r": {
     "delete_cmd_postfix": ") ",
     "delete_cmd_prefix": "rm(",
     "library": "var_list.r",
     "varRefreshCmd": "cat(var_dic_list()) "
    }
   },
   "types_to_exclude": [
    "module",
    "function",
    "builtin_function_or_method",
    "instance",
    "_Feature"
   ],
   "window_display": false
  }
 },
 "nbformat": 4,
 "nbformat_minor": 2
}
